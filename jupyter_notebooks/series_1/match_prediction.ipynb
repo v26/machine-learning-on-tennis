{
 "cells": [
  {
   "cell_type": "markdown",
   "metadata": {},
   "source": [
    "# ***Prediction models design***\n",
    "\n",
    "\n",
    "## *Данный, второй документ в цикле статей описывает процесс выбора и обучения ML-модели для прогнозирования исходов теннисных матчей*\n",
    "\n",
    "\n",
    "## Skills changelog:\n",
    "*это первая попытка использования Machine Learning как инструмента в принципе, и поэтому\n",
    "- есть только общее понимание того, что из себя представляет Data Science в целом и Machine Learning в частности;\n",
    "- есть огромное желание попробовать ML на практике;\n",
    "- используются любые руководства для начинающих;\n",
    "- отсутствуют специфические знания и навыки, а именно - для подготовки данных, обучения моделей и т.п.;\n",
    "- все, чем приходится пока руководствоваться - логика и здравый смысл.\n",
    "\n",
    "\n",
    "## Sources:\n",
    "- Python 3 and Pandas docs;\n",
    "- StackOverflow\n"
   ]
  },
  {
   "cell_type": "markdown",
   "metadata": {},
   "source": [
    "feature selection test"
   ]
  },
  {
   "cell_type": "code",
   "execution_count": null,
   "metadata": {},
   "outputs": [],
   "source": [
    "### !pip install pandas\n",
    "### !pip install matplotlib\n",
    "import pandas as pd\n",
    "import numpy as np\n",
    "#import urllib\n",
    "import urllib.request\n",
    "import os\n",
    "import glob\n",
    "import csv\n",
    "import re\n",
    "from datetime import datetime\n",
    "from IPython.display import display\n",
    "from pandas.plotting import scatter_matrix\n",
    "import matplotlib\n",
    "\n",
    "# Pandas display options tweaking\n",
    "pd.options.display.max_columns = None\n",
    "INIT_MAX_ROWS = 50\n",
    "pd.options.display.max_rows = INIT_MAX_ROWS\n",
    "\n",
    "ROOT_DIR = os.path.abspath(os.path.join(os.getcwd(), '../../'))\n",
    "print('Root directory:', ROOT_DIR)\n",
    "# Downloaded files path\n",
    "DOWNL_F_P = os.path.join(ROOT_DIR, 'match_data', 'match_data_downloaded')\n",
    "# Preprocessed files path\n",
    "PREP_F_P = os.path.join(ROOT_DIR, 'match_data', 'match_data_preprocessed')"
   ]
  },
  {
   "cell_type": "code",
   "execution_count": null,
   "metadata": {},
   "outputs": [],
   "source": [
    "preprocessed_data_file = 'atp_matches_1991-2018_preprocessed_final.csv'\n",
    "preprocessed_data_full_path = os.path.join(PREP_F_P, preprocessed_data_file)\n",
    "preprocessed_data = pd.read_csv(preprocessed_data_full_path, header=0, encoding='utf-8-sig', engine='python')\n",
    "\n",
    "display(preprocessed_data)"
   ]
  },
  {
   "cell_type": "code",
   "execution_count": null,
   "metadata": {},
   "outputs": [],
   "source": [
    "%time scatter_matrix(preprocessed_data, figsize=(400,400))"
   ]
  },
  {
   "cell_type": "code",
   "execution_count": null,
   "metadata": {},
   "outputs": [],
   "source": []
  }
 ],
 "metadata": {
  "kernelspec": {
   "display_name": "Python 3",
   "language": "python",
   "name": "python3"
  },
  "language_info": {
   "codemirror_mode": {
    "name": "ipython",
    "version": 3
   },
   "file_extension": ".py",
   "mimetype": "text/x-python",
   "name": "python",
   "nbconvert_exporter": "python",
   "pygments_lexer": "ipython3",
   "version": "3.6.8"
  }
 },
 "nbformat": 4,
 "nbformat_minor": 2
}
